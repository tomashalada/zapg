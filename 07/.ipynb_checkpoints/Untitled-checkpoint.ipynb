{
 "cells": [
  {
   "cell_type": "code",
   "execution_count": 25,
   "id": "35aa0c2a",
   "metadata": {},
   "outputs": [
    {
     "name": "stderr",
     "output_type": "stream",
     "text": [
      "\u001b[0;31m[Errno 9] Bad file descriptor\n",
      "\u001b[0m\u001b[0;31m[Errno 9] Bad file descriptor\n",
      "\u001b[0m"
     ]
    }
   ],
   "source": [
    "f = @( x ) x .* log( x ) - 1\n",
    "\n",
    "x = [ 0 : 0.01 : 2 ];\n",
    "\n",
    "\n",
    "#fplot( f, [0, 2] )\n",
    "hold on\n",
    "plot( x, f(x) )\n",
    "line ([0 2], [0 0], \"linestyle\", \"-\", \"color\", \"b\");\n",
    "grid on\n",
    "hold off\n",
    "legend('{\\fontsize{32} f(x)}')"
   ]
  },
  {
   "cell_type": "code",
   "execution_count": 26,
   "id": "6ec13247",
   "metadata": {},
   "outputs": [
    {
     "name": "stderr",
     "output_type": "stream",
     "text": [
      "\u001b[0;31m[Errno 9] Bad file descriptor\n",
      "\u001b[0m\u001b[0;31m[Errno 9] Bad file descriptor\n",
      "\u001b[0m"
     ]
    }
   ],
   "source": [
    "presnost = 0.01;\n",
    "a = 1.5; b = 1.5;\n",
    "\n",
    "fa = f(a); fb = f(b)\n",
    "\n",
    "if fa * fb > 0\n",
    "    disp( \"Na zadanem intervalu neexistuje reseni.\")\n",
    "end"
   ]
  },
  {
   "cell_type": "code",
   "execution_count": null,
   "id": "95e1005f",
   "metadata": {},
   "outputs": [],
   "source": [
    "\n",
    "function [x]=Puleni(jmenof,a,b)\n",
    "% Obecne reseni rovnice f(x)=0 metodou puleni intervalu\n",
    "% [x]=Puleni(jmenof,a,b);\n",
    "% x ... nalezene reseni rovnice\n",
    "% jmenof ... nazev funkce f(x) jako retezec znaku\n",
    "% a ... dolni mez intervalu\n",
    "% b ... horni mez intervalu\n",
    "nmax=40;\t% maximalni pocet vycisleni\n",
    "fa=feval(jmenof,a);\t% levy okraj\n",
    "fb=feval(jmenof,b);\t% pravy okraj\n",
    "if fa*fb>0\n",
    "   x=inf;\t% chybny predpoklad uspechu\n",
    "   return;\n",
    "end\n",
    "for k=3:nmax\t% bezpecny cykl\n",
    "   x=(a+b)/2;\t% stred intervalu\n",
    "   f=feval(jmenof,x);\t% vycislit v polovine\n",
    "   if fa*f<=0\t% je neco v intervalu <a;x>?\n",
    "      b=x;\t% zahozeni intervalu (x;b>\n",
    "   else\n",
    "      a=x;\t% zahozeni intervalu <a;x)\n",
    "   end\n",
    "end\n",
    "x=(a+b)/2;\t% naposled\n"
   ]
  }
 ],
 "metadata": {
  "kernelspec": {
   "display_name": "Octave",
   "language": "octave",
   "name": "octave"
  },
  "language_info": {
   "file_extension": ".m",
   "help_links": [
    {
     "text": "GNU Octave",
     "url": "https://www.gnu.org/software/octave/support.html"
    },
    {
     "text": "Octave Kernel",
     "url": "https://github.com/Calysto/octave_kernel"
    },
    {
     "text": "MetaKernel Magics",
     "url": "https://metakernel.readthedocs.io/en/latest/source/README.html"
    }
   ],
   "mimetype": "text/x-octave",
   "name": "octave",
   "version": "q"
  }
 },
 "nbformat": 4,
 "nbformat_minor": 5
}
